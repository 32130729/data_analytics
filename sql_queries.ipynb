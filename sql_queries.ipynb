{
  "nbformat": 4,
  "nbformat_minor": 0,
  "metadata": {
    "colab": {
      "provenance": []
    },
    "kernelspec": {
      "name": "python3",
      "display_name": "Python 3"
    },
    "language_info": {
      "name": "python"
    }
  },
  "cells": [
    {
      "cell_type": "code",
      "execution_count": 1,
      "metadata": {
        "colab": {
          "base_uri": "https://localhost:8080/"
        },
        "id": "HEYfY_FC1i7_",
        "outputId": "6e8ed05f-08a0-402b-f25d-fad64c7537f2"
      },
      "outputs": [
        {
          "output_type": "stream",
          "name": "stdout",
          "text": [
            "Requirement already satisfied: ipython-sql in /usr/local/lib/python3.10/dist-packages (0.5.0)\n",
            "Requirement already satisfied: prettytable in /usr/local/lib/python3.10/dist-packages (from ipython-sql) (3.10.0)\n",
            "Requirement already satisfied: ipython in /usr/local/lib/python3.10/dist-packages (from ipython-sql) (7.34.0)\n",
            "Requirement already satisfied: sqlalchemy>=2.0 in /usr/local/lib/python3.10/dist-packages (from ipython-sql) (2.0.30)\n",
            "Requirement already satisfied: sqlparse in /usr/local/lib/python3.10/dist-packages (from ipython-sql) (0.5.0)\n",
            "Requirement already satisfied: six in /usr/local/lib/python3.10/dist-packages (from ipython-sql) (1.16.0)\n",
            "Requirement already satisfied: ipython-genutils in /usr/local/lib/python3.10/dist-packages (from ipython-sql) (0.2.0)\n",
            "Requirement already satisfied: typing-extensions>=4.6.0 in /usr/local/lib/python3.10/dist-packages (from sqlalchemy>=2.0->ipython-sql) (4.11.0)\n",
            "Requirement already satisfied: greenlet!=0.4.17 in /usr/local/lib/python3.10/dist-packages (from sqlalchemy>=2.0->ipython-sql) (3.0.3)\n",
            "Requirement already satisfied: setuptools>=18.5 in /usr/local/lib/python3.10/dist-packages (from ipython->ipython-sql) (67.7.2)\n",
            "Collecting jedi>=0.16 (from ipython->ipython-sql)\n",
            "  Downloading jedi-0.19.1-py2.py3-none-any.whl (1.6 MB)\n",
            "\u001b[2K     \u001b[90m━━━━━━━━━━━━━━━━━━━━━━━━━━━━━━━━━━━━━━━━\u001b[0m \u001b[32m1.6/1.6 MB\u001b[0m \u001b[31m5.1 MB/s\u001b[0m eta \u001b[36m0:00:00\u001b[0m\n",
            "\u001b[?25hRequirement already satisfied: decorator in /usr/local/lib/python3.10/dist-packages (from ipython->ipython-sql) (4.4.2)\n",
            "Requirement already satisfied: pickleshare in /usr/local/lib/python3.10/dist-packages (from ipython->ipython-sql) (0.7.5)\n",
            "Requirement already satisfied: traitlets>=4.2 in /usr/local/lib/python3.10/dist-packages (from ipython->ipython-sql) (5.7.1)\n",
            "Requirement already satisfied: prompt-toolkit!=3.0.0,!=3.0.1,<3.1.0,>=2.0.0 in /usr/local/lib/python3.10/dist-packages (from ipython->ipython-sql) (3.0.43)\n",
            "Requirement already satisfied: pygments in /usr/local/lib/python3.10/dist-packages (from ipython->ipython-sql) (2.16.1)\n",
            "Requirement already satisfied: backcall in /usr/local/lib/python3.10/dist-packages (from ipython->ipython-sql) (0.2.0)\n",
            "Requirement already satisfied: matplotlib-inline in /usr/local/lib/python3.10/dist-packages (from ipython->ipython-sql) (0.1.7)\n",
            "Requirement already satisfied: pexpect>4.3 in /usr/local/lib/python3.10/dist-packages (from ipython->ipython-sql) (4.9.0)\n",
            "Requirement already satisfied: wcwidth in /usr/local/lib/python3.10/dist-packages (from prettytable->ipython-sql) (0.2.13)\n",
            "Requirement already satisfied: parso<0.9.0,>=0.8.3 in /usr/local/lib/python3.10/dist-packages (from jedi>=0.16->ipython->ipython-sql) (0.8.4)\n",
            "Requirement already satisfied: ptyprocess>=0.5 in /usr/local/lib/python3.10/dist-packages (from pexpect>4.3->ipython->ipython-sql) (0.7.0)\n",
            "Installing collected packages: jedi\n",
            "Successfully installed jedi-0.19.1\n"
          ]
        }
      ],
      "source": [
        "!pip install ipython-sql"
      ]
    },
    {
      "cell_type": "code",
      "source": [
        "# Load the sql extension\n",
        "%load_ext sql\n",
        "\n",
        "# Create SQLite database\n",
        "%sql sqlite://"
      ],
      "metadata": {
        "id": "d-yXrB4f2HDT"
      },
      "execution_count": 2,
      "outputs": []
    },
    {
      "cell_type": "code",
      "source": [
        "%%sql\n",
        "DROP TABLE IF EXISTS energy_dataset;\n",
        "\n",
        "CREATE TABLE energy_dataset (\n",
        "    `Relative Compactness` REAL,\n",
        "    `Surface Area`  REAL,\n",
        "    `Wall Area` REAL,\n",
        "    `Roof Area` REAL,\n",
        "    `Overall Height` REAL,\n",
        "    `Orientation` REAL,\n",
        "    `Glazing Area` REAL,\n",
        "    `Glazing Area Distribution` REAL,\n",
        "    `Heating Load` REAL,\n",
        "    `Cooling Load` REAL\n",
        ");"
      ],
      "metadata": {
        "colab": {
          "base_uri": "https://localhost:8080/"
        },
        "id": "Yt9LC9oa2Vgd",
        "outputId": "36bac5d3-6485-43e0-a596-cb97ff5244fa"
      },
      "execution_count": 3,
      "outputs": [
        {
          "output_type": "stream",
          "name": "stdout",
          "text": [
            " * sqlite://\n",
            "Done.\n",
            "Done.\n"
          ]
        },
        {
          "output_type": "execute_result",
          "data": {
            "text/plain": [
              "[]"
            ]
          },
          "metadata": {},
          "execution_count": 3
        }
      ]
    },
    {
      "cell_type": "code",
      "source": [
        "%%sql\n",
        "INSERT INTO energy_dataset (\n",
        "  `Relative Compactness`,\n",
        "    `Surface Area`,\n",
        "    `Wall Area`,\n",
        "    `Roof Area`,\n",
        "    `Overall Height`,\n",
        "    `Orientation`,\n",
        "    `Glazing Area`,\n",
        "    `Glazing Area Distribution`,\n",
        "    `Heating Load`,\n",
        "    `Cooling Load`\n",
        ") VALUES(\n",
        "  0.99, 523.1, 291.4, 110, 7, 2, 0, 0, 15.23, 21.33\n",
        ")"
      ],
      "metadata": {
        "colab": {
          "base_uri": "https://localhost:8080/"
        },
        "id": "4kMn6ExQ2mTa",
        "outputId": "1e9df061-ca44-4f2f-cb5c-64e7c6ccab62"
      },
      "execution_count": 11,
      "outputs": [
        {
          "output_type": "stream",
          "name": "stdout",
          "text": [
            " * sqlite://\n",
            "1 rows affected.\n"
          ]
        },
        {
          "output_type": "execute_result",
          "data": {
            "text/plain": [
              "[]"
            ]
          },
          "metadata": {},
          "execution_count": 11
        }
      ]
    },
    {
      "cell_type": "code",
      "source": [
        "%%sql\n",
        "SELECT * FROM energy_dataset;"
      ],
      "metadata": {
        "colab": {
          "base_uri": "https://localhost:8080/",
          "height": 118
        },
        "id": "5X-hjoYK3OGd",
        "outputId": "120c3cb8-8d1e-43d3-bc0a-35c1714fdd1c"
      },
      "execution_count": 6,
      "outputs": [
        {
          "output_type": "stream",
          "name": "stdout",
          "text": [
            " * sqlite://\n",
            "Done.\n"
          ]
        },
        {
          "output_type": "execute_result",
          "data": {
            "text/plain": [
              "[(0.99, 523.1, 291.4, 110.0, 7.0, 2.0, 0.0, 0.0, 15.23, 21.33),\n",
              " (0.99, 523.1, 291.4, 110.0, 7.0, 2.0, 0.0, 0.0, 15.23, 21.33)]"
            ],
            "text/html": [
              "<table>\n",
              "    <thead>\n",
              "        <tr>\n",
              "            <th>Relative Compactness</th>\n",
              "            <th>Surface Area</th>\n",
              "            <th>Wall Area</th>\n",
              "            <th>Roof Area</th>\n",
              "            <th>Overall Height</th>\n",
              "            <th>Orientation</th>\n",
              "            <th>Glazing Area</th>\n",
              "            <th>Glazing Area Distribution</th>\n",
              "            <th>Heating Load</th>\n",
              "            <th>Cooling Load</th>\n",
              "        </tr>\n",
              "    </thead>\n",
              "    <tbody>\n",
              "        <tr>\n",
              "            <td>0.99</td>\n",
              "            <td>523.1</td>\n",
              "            <td>291.4</td>\n",
              "            <td>110.0</td>\n",
              "            <td>7.0</td>\n",
              "            <td>2.0</td>\n",
              "            <td>0.0</td>\n",
              "            <td>0.0</td>\n",
              "            <td>15.23</td>\n",
              "            <td>21.33</td>\n",
              "        </tr>\n",
              "        <tr>\n",
              "            <td>0.99</td>\n",
              "            <td>523.1</td>\n",
              "            <td>291.4</td>\n",
              "            <td>110.0</td>\n",
              "            <td>7.0</td>\n",
              "            <td>2.0</td>\n",
              "            <td>0.0</td>\n",
              "            <td>0.0</td>\n",
              "            <td>15.23</td>\n",
              "            <td>21.33</td>\n",
              "        </tr>\n",
              "    </tbody>\n",
              "</table>"
            ]
          },
          "metadata": {},
          "execution_count": 6
        }
      ]
    },
    {
      "cell_type": "code",
      "source": [
        "%%sql\n",
        "UPDATE energy_dataset\n",
        "SET `Surface Area`= 520.1, `Overall Height` = 3.5\n",
        "WHERE `Relative Compactness` = 0.99;\n",
        "\n",
        "SELECT * FROM energy_dataset;"
      ],
      "metadata": {
        "colab": {
          "base_uri": "https://localhost:8080/",
          "height": 135
        },
        "id": "t8j5gurR3XXs",
        "outputId": "3f3e24c4-1bba-414e-bd67-5ec5fcc6c868"
      },
      "execution_count": 7,
      "outputs": [
        {
          "output_type": "stream",
          "name": "stdout",
          "text": [
            " * sqlite://\n",
            "2 rows affected.\n",
            "Done.\n"
          ]
        },
        {
          "output_type": "execute_result",
          "data": {
            "text/plain": [
              "[(0.99, 520.1, 291.4, 110.0, 3.5, 2.0, 0.0, 0.0, 15.23, 21.33),\n",
              " (0.99, 520.1, 291.4, 110.0, 3.5, 2.0, 0.0, 0.0, 15.23, 21.33)]"
            ],
            "text/html": [
              "<table>\n",
              "    <thead>\n",
              "        <tr>\n",
              "            <th>Relative Compactness</th>\n",
              "            <th>Surface Area</th>\n",
              "            <th>Wall Area</th>\n",
              "            <th>Roof Area</th>\n",
              "            <th>Overall Height</th>\n",
              "            <th>Orientation</th>\n",
              "            <th>Glazing Area</th>\n",
              "            <th>Glazing Area Distribution</th>\n",
              "            <th>Heating Load</th>\n",
              "            <th>Cooling Load</th>\n",
              "        </tr>\n",
              "    </thead>\n",
              "    <tbody>\n",
              "        <tr>\n",
              "            <td>0.99</td>\n",
              "            <td>520.1</td>\n",
              "            <td>291.4</td>\n",
              "            <td>110.0</td>\n",
              "            <td>3.5</td>\n",
              "            <td>2.0</td>\n",
              "            <td>0.0</td>\n",
              "            <td>0.0</td>\n",
              "            <td>15.23</td>\n",
              "            <td>21.33</td>\n",
              "        </tr>\n",
              "        <tr>\n",
              "            <td>0.99</td>\n",
              "            <td>520.1</td>\n",
              "            <td>291.4</td>\n",
              "            <td>110.0</td>\n",
              "            <td>3.5</td>\n",
              "            <td>2.0</td>\n",
              "            <td>0.0</td>\n",
              "            <td>0.0</td>\n",
              "            <td>15.23</td>\n",
              "            <td>21.33</td>\n",
              "        </tr>\n",
              "    </tbody>\n",
              "</table>"
            ]
          },
          "metadata": {},
          "execution_count": 7
        }
      ]
    },
    {
      "cell_type": "code",
      "source": [
        "%%sql\n",
        "DELETE FROM energy_dataset\n",
        "WHERE `Relative Compactness` = 0.99;"
      ],
      "metadata": {
        "colab": {
          "base_uri": "https://localhost:8080/"
        },
        "id": "Hm3MWhbJ4t7g",
        "outputId": "c43ca62b-0834-48b9-cfe1-1a0241af66de"
      },
      "execution_count": 8,
      "outputs": [
        {
          "output_type": "stream",
          "name": "stdout",
          "text": [
            " * sqlite://\n",
            "2 rows affected.\n"
          ]
        },
        {
          "output_type": "execute_result",
          "data": {
            "text/plain": [
              "[]"
            ]
          },
          "metadata": {},
          "execution_count": 8
        }
      ]
    },
    {
      "cell_type": "code",
      "source": [
        "# Using SUM function to find the sum of values in a column\n",
        "%%sql\n",
        "SELECT SUM(`Surface Area`) AS surface_area_sum\n",
        "FROM energy_dataset;"
      ],
      "metadata": {
        "colab": {
          "base_uri": "https://localhost:8080/",
          "height": 96
        },
        "id": "tOvHgsIe5Rmf",
        "outputId": "2d77f6b1-1e62-461a-9e58-546a414272f2"
      },
      "execution_count": 12,
      "outputs": [
        {
          "output_type": "stream",
          "name": "stdout",
          "text": [
            " * sqlite://\n",
            "Done.\n"
          ]
        },
        {
          "output_type": "execute_result",
          "data": {
            "text/plain": [
              "[(1046.2,)]"
            ],
            "text/html": [
              "<table>\n",
              "    <thead>\n",
              "        <tr>\n",
              "            <th>surface_area_sum</th>\n",
              "        </tr>\n",
              "    </thead>\n",
              "    <tbody>\n",
              "        <tr>\n",
              "            <td>1046.2</td>\n",
              "        </tr>\n",
              "    </tbody>\n",
              "</table>"
            ]
          },
          "metadata": {},
          "execution_count": 12
        }
      ]
    },
    {
      "cell_type": "code",
      "source": [
        "# Count number of rows using COUNT function\n",
        "%%sql\n",
        "SELECT COUNT(*) AS total_rows\n",
        "FROM energy_dataset;"
      ],
      "metadata": {
        "colab": {
          "base_uri": "https://localhost:8080/",
          "height": 96
        },
        "id": "Yjt8-tai543J",
        "outputId": "64b7321d-68d5-420e-ac22-7e62b285e08f"
      },
      "execution_count": 13,
      "outputs": [
        {
          "output_type": "stream",
          "name": "stdout",
          "text": [
            " * sqlite://\n",
            "Done.\n"
          ]
        },
        {
          "output_type": "execute_result",
          "data": {
            "text/plain": [
              "[(2,)]"
            ],
            "text/html": [
              "<table>\n",
              "    <thead>\n",
              "        <tr>\n",
              "            <th>total_rows</th>\n",
              "        </tr>\n",
              "    </thead>\n",
              "    <tbody>\n",
              "        <tr>\n",
              "            <td>2</td>\n",
              "        </tr>\n",
              "    </tbody>\n",
              "</table>"
            ]
          },
          "metadata": {},
          "execution_count": 13
        }
      ]
    },
    {
      "cell_type": "code",
      "source": [
        "# Find the average Wall Area\n",
        "%%sql\n",
        "SELECT AVG(`Wall Area`) AS avg_wall_area\n",
        "FROM energy_dataset;"
      ],
      "metadata": {
        "colab": {
          "base_uri": "https://localhost:8080/",
          "height": 96
        },
        "id": "a7ox1YEE6Iq5",
        "outputId": "98cd6b27-5f0e-4e9a-eb44-1b603512608d"
      },
      "execution_count": 15,
      "outputs": [
        {
          "output_type": "stream",
          "name": "stdout",
          "text": [
            " * sqlite://\n",
            "Done.\n"
          ]
        },
        {
          "output_type": "execute_result",
          "data": {
            "text/plain": [
              "[(291.4,)]"
            ],
            "text/html": [
              "<table>\n",
              "    <thead>\n",
              "        <tr>\n",
              "            <th>avg_wall_area</th>\n",
              "        </tr>\n",
              "    </thead>\n",
              "    <tbody>\n",
              "        <tr>\n",
              "            <td>291.4</td>\n",
              "        </tr>\n",
              "    </tbody>\n",
              "</table>"
            ]
          },
          "metadata": {},
          "execution_count": 15
        }
      ]
    },
    {
      "cell_type": "code",
      "source": [
        "# Find MIN and MAX Cooling Load\n",
        "%%sql\n",
        "SELECT MAX(`Cooling Load`) AS max_cooling_load, MIN(`Cooling Load`) AS min_cooling_load\n",
        "FROM energy_dataset;"
      ],
      "metadata": {
        "colab": {
          "base_uri": "https://localhost:8080/",
          "height": 96
        },
        "id": "aETdap0K6bGz",
        "outputId": "a28330f9-6b6f-4d27-fd8d-1aa655d3ab3c"
      },
      "execution_count": 14,
      "outputs": [
        {
          "output_type": "stream",
          "name": "stdout",
          "text": [
            " * sqlite://\n",
            "Done.\n"
          ]
        },
        {
          "output_type": "execute_result",
          "data": {
            "text/plain": [
              "[(21.33, 21.33)]"
            ],
            "text/html": [
              "<table>\n",
              "    <thead>\n",
              "        <tr>\n",
              "            <th>max_cooling_load</th>\n",
              "            <th>min_cooling_load</th>\n",
              "        </tr>\n",
              "    </thead>\n",
              "    <tbody>\n",
              "        <tr>\n",
              "            <td>21.33</td>\n",
              "            <td>21.33</td>\n",
              "        </tr>\n",
              "    </tbody>\n",
              "</table>"
            ]
          },
          "metadata": {},
          "execution_count": 14
        }
      ]
    }
  ]
}